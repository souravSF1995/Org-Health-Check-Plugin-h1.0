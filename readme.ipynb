{
 "cells": [
  {
   "cell_type": "code",
   "execution_count": null,
   "metadata": {},
   "outputs": [],
   "source": [
    "Get inputs via three methods\n",
    "\t1. getCaseInfo() - Fetch Org ID and Instance from ORGCS\n",
    "\t2. getGadgetInfo() - Fetch Org ID and Instance from GADGET\n",
    "\t3. inputValidation() - Fetch Org ID and Instance from INPUT FIELDS\n",
    "\n",
    "After getting values and validating\n",
    "\t> fetchDashboards() - Pass orgId and Instance to dashboards Panel\n"
   ]
  },
  {
   "cell_type": "code",
   "execution_count": null,
   "metadata": {},
   "outputs": [],
   "source": [
    "<head>\n",
    "      <!--1. JS FORCE FILE optional --> \n",
    "      <script src=\"jsforce.js\"></script>\n",
    "      <!--2. JQUERY FILE-->\n",
    "      <script src=\"jquery.min.js\"></script>\n",
    "      <!--3. popup JAVASCRIPT FILE-->\n",
    "      <script src=\"popup.js\"></script>\n",
    "      <!--4. BOOTSTRAP.min JS FILE-->\n",
    "      <script src=\"bootstrap-5.1.3-dist\\js\\bootstrap.min.js\"></script>\n",
    "      <!--5. bootstrap.min CSS File-->\n",
    "      <link rel=\"stylesheet\" type=\"text/css\" href=\"bootstrap-5.1.3-dist\\css\\bootstrap.min.css\">\n",
    "      <!--6. SLDS lib File-->\n",
    "      <link rel=\"stylesheet\" type=\"text/css\" href=\"salesforce-lightning-design-system.min.css\"> \n",
    "      <!--7. SLDS css File-->\n",
    "      <link rel=\"stylesheet\" type=\"text/css\" href=\"slds/assets/styles/salesforce-lightning-design-system.css\">\n",
    "    \n",
    "    <meta name=\"viewport\" content=\"width=device-width, initial-scale=1\"/>\n",
    "    <meta http-equiv=\"Content-Type\" content=\"text/html; charset=utf-8\">"
   ]
  },
  {
   "cell_type": "markdown",
   "metadata": {},
   "source": [
    "getCaseId() -> getCaseInfo() -> retrieveCaseInfo()\n"
   ]
  },
  {
   "cell_type": "code",
   "execution_count": null,
   "metadata": {},
   "outputs": [],
   "source": [
    " <!--   <div class=\"card-body\">\n",
    "      <div class=\"row cell-bg2 justify-content-center\"> \n",
    "        <a id=\"cattOverView\" href=\"#\" align=\"center\" target=\"_blank\">CATT Overview</a>\n",
    "      </div>\n",
    "      <div class=\"row cell-bg2 justify-content-center\"> \n",
    "        <a id=\"cattOverView\" href=\"#\" align=\"center\" target=\"_blank\">CATT Overview</a>\n",
    "      </div>\n",
    "      <div class=\"row cell-bg2 justify-content-center\"> \n",
    "        <a id=\"cattOverView\" href=\"#\" align=\"center\" target=\"_blank\">CATT Overview</a>\n",
    "      </div>\n",
    "      <div class=\"row cell-bg2 justify-content-center\"> \n",
    "        <a id=\"cattOverView\" href=\"#\" align=\"center\" target=\"_blank\">CATT Overview</a>\n",
    "      </div>\n",
    "      <div class=\"row cell-bg2 justify-content-center\"> \n",
    "        <a id=\"cattOverView\" href=\"#\" align=\"center\" target=\"_blank\">CATT Overview</a>\n",
    "      </div> \n",
    "      <div class=\"row cell-bg2 justify-content-center\"> \n",
    "        <a id=\"cattOverView\" href=\"#\" align=\"center\" target=\"_blank\">CATT Overview</a>\n",
    "      </div> \n",
    "      <div class=\"row cell-bg2 justify-content-center\"> \n",
    "        <a id=\"cattOverView\" href=\"#\" align=\"center\" target=\"_blank\">CATT Overview</a>\n",
    "      </div> \n",
    "    -->"
   ]
  },
  {
   "cell_type": "code",
   "execution_count": null,
   "metadata": {},
   "outputs": [],
   "source": [
    "\n",
    "<!-- demo   \n",
    "        <div class=\"col-sm-4\">\n",
    "        <div class=\"profile-card-2\"><img src=\"http://envato.jayasankarkr.in/code/profile/assets/img/profile-2.jpg\" class=\"img img-responsive\">\n",
    "            <div class=\"profile-name\">JOHN DOE</div>\n",
    "            <div class=\"profile-username\">@johndoesurname</div>\n",
    "            <div class=\"profile-icons\"><a href=\"#\"><i class=\"fa fa-facebook\"></i></a><a href=\"#\"><i class=\"fa fa-twitter\"></i></a><a href=\"#\"><i class=\"fa fa-linkedin\"></i></a></div>\n",
    "        </div>\n",
    "    </div>\n",
    "    -->"
   ]
  }
 ],
 "metadata": {
  "language_info": {
   "name": "python"
  },
  "orig_nbformat": 4
 },
 "nbformat": 4,
 "nbformat_minor": 2
}
